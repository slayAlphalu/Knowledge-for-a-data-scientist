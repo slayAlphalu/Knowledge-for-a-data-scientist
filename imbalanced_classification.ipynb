{
  "nbformat": 4,
  "nbformat_minor": 0,
  "metadata": {
    "colab": {
      "name": "imbalanced classification.ipynb",
      "provenance": [],
      "collapsed_sections": [],
      "include_colab_link": true
    },
    "kernelspec": {
      "name": "python3",
      "display_name": "Python 3"
    }
  },
  "cells": [
    {
      "cell_type": "markdown",
      "metadata": {
        "id": "view-in-github",
        "colab_type": "text"
      },
      "source": [
        "<a href=\"https://colab.research.google.com/github/slayAlphalu/Knowledge-for-a-data-scientist/blob/master/imbalanced_classification.ipynb\" target=\"_parent\"><img src=\"https://colab.research.google.com/assets/colab-badge.svg\" alt=\"Open In Colab\"/></a>"
      ]
    },
    {
      "cell_type": "code",
      "metadata": {
        "id": "Ggd4d8s0QjCu",
        "colab_type": "code",
        "colab": {}
      },
      "source": [
        "from __future__ import absolute_import, division, print_function, unicode_literals"
      ],
      "execution_count": 0,
      "outputs": []
    },
    {
      "cell_type": "code",
      "metadata": {
        "id": "4qDsBL9_QqcW",
        "colab_type": "code",
        "colab": {}
      },
      "source": [
        "!pip install -q imblearn"
      ],
      "execution_count": 0,
      "outputs": []
    },
    {
      "cell_type": "code",
      "metadata": {
        "id": "ocr3b_cGQsQ7",
        "colab_type": "code",
        "colab": {
          "base_uri": "https://localhost:8080/",
          "height": 72
        },
        "outputId": "f77eecdb-8338-47f2-d7f5-b8d261a9a76f"
      },
      "source": [
        "import tensorflow as tf\n",
        "from tensorflow import keras\n",
        "\n",
        "import matplotlib.pyplot as plt\n",
        "import numpy as np\n",
        "import pandas as pd\n",
        "from sklearn.metrics import confusion_matrix\n",
        "from sklearn.model_selection import train_test_split\n",
        "from sklearn.preprocessing import StandardScaler\n",
        "from imblearn.over_sampling import SMOTE"
      ],
      "execution_count": 3,
      "outputs": [
        {
          "output_type": "stream",
          "text": [
            "/usr/local/lib/python3.6/dist-packages/sklearn/externals/six.py:31: DeprecationWarning: The module is deprecated in version 0.21 and will be removed in version 0.23 since we've dropped support for Python 2.7. Please rely on the official version of six (https://pypi.org/project/six/).\n",
            "  \"(https://pypi.org/project/six/).\", DeprecationWarning)\n"
          ],
          "name": "stderr"
        }
      ]
    },
    {
      "cell_type": "code",
      "metadata": {
        "id": "FRuPGxGRQuJ5",
        "colab_type": "code",
        "colab": {
          "base_uri": "https://localhost:8080/",
          "height": 224
        },
        "outputId": "44a72b1b-e263-49a5-85a2-e5aa924a3526"
      },
      "source": [
        "raw_df = pd.read_csv('https://storage.googleapis.com/download.tensorflow.org/data/creditcard.csv')\n",
        "raw_df.head()"
      ],
      "execution_count": 4,
      "outputs": [
        {
          "output_type": "execute_result",
          "data": {
            "text/html": [
              "<div>\n",
              "<style scoped>\n",
              "    .dataframe tbody tr th:only-of-type {\n",
              "        vertical-align: middle;\n",
              "    }\n",
              "\n",
              "    .dataframe tbody tr th {\n",
              "        vertical-align: top;\n",
              "    }\n",
              "\n",
              "    .dataframe thead th {\n",
              "        text-align: right;\n",
              "    }\n",
              "</style>\n",
              "<table border=\"1\" class=\"dataframe\">\n",
              "  <thead>\n",
              "    <tr style=\"text-align: right;\">\n",
              "      <th></th>\n",
              "      <th>Time</th>\n",
              "      <th>V1</th>\n",
              "      <th>V2</th>\n",
              "      <th>V3</th>\n",
              "      <th>V4</th>\n",
              "      <th>V5</th>\n",
              "      <th>V6</th>\n",
              "      <th>V7</th>\n",
              "      <th>V8</th>\n",
              "      <th>V9</th>\n",
              "      <th>V10</th>\n",
              "      <th>V11</th>\n",
              "      <th>V12</th>\n",
              "      <th>V13</th>\n",
              "      <th>V14</th>\n",
              "      <th>V15</th>\n",
              "      <th>V16</th>\n",
              "      <th>V17</th>\n",
              "      <th>V18</th>\n",
              "      <th>V19</th>\n",
              "      <th>V20</th>\n",
              "      <th>V21</th>\n",
              "      <th>V22</th>\n",
              "      <th>V23</th>\n",
              "      <th>V24</th>\n",
              "      <th>V25</th>\n",
              "      <th>V26</th>\n",
              "      <th>V27</th>\n",
              "      <th>V28</th>\n",
              "      <th>Amount</th>\n",
              "      <th>Class</th>\n",
              "    </tr>\n",
              "  </thead>\n",
              "  <tbody>\n",
              "    <tr>\n",
              "      <th>0</th>\n",
              "      <td>0.0</td>\n",
              "      <td>-1.359807</td>\n",
              "      <td>-0.072781</td>\n",
              "      <td>2.536347</td>\n",
              "      <td>1.378155</td>\n",
              "      <td>-0.338321</td>\n",
              "      <td>0.462388</td>\n",
              "      <td>0.239599</td>\n",
              "      <td>0.098698</td>\n",
              "      <td>0.363787</td>\n",
              "      <td>0.090794</td>\n",
              "      <td>-0.551600</td>\n",
              "      <td>-0.617801</td>\n",
              "      <td>-0.991390</td>\n",
              "      <td>-0.311169</td>\n",
              "      <td>1.468177</td>\n",
              "      <td>-0.470401</td>\n",
              "      <td>0.207971</td>\n",
              "      <td>0.025791</td>\n",
              "      <td>0.403993</td>\n",
              "      <td>0.251412</td>\n",
              "      <td>-0.018307</td>\n",
              "      <td>0.277838</td>\n",
              "      <td>-0.110474</td>\n",
              "      <td>0.066928</td>\n",
              "      <td>0.128539</td>\n",
              "      <td>-0.189115</td>\n",
              "      <td>0.133558</td>\n",
              "      <td>-0.021053</td>\n",
              "      <td>149.62</td>\n",
              "      <td>0</td>\n",
              "    </tr>\n",
              "    <tr>\n",
              "      <th>1</th>\n",
              "      <td>0.0</td>\n",
              "      <td>1.191857</td>\n",
              "      <td>0.266151</td>\n",
              "      <td>0.166480</td>\n",
              "      <td>0.448154</td>\n",
              "      <td>0.060018</td>\n",
              "      <td>-0.082361</td>\n",
              "      <td>-0.078803</td>\n",
              "      <td>0.085102</td>\n",
              "      <td>-0.255425</td>\n",
              "      <td>-0.166974</td>\n",
              "      <td>1.612727</td>\n",
              "      <td>1.065235</td>\n",
              "      <td>0.489095</td>\n",
              "      <td>-0.143772</td>\n",
              "      <td>0.635558</td>\n",
              "      <td>0.463917</td>\n",
              "      <td>-0.114805</td>\n",
              "      <td>-0.183361</td>\n",
              "      <td>-0.145783</td>\n",
              "      <td>-0.069083</td>\n",
              "      <td>-0.225775</td>\n",
              "      <td>-0.638672</td>\n",
              "      <td>0.101288</td>\n",
              "      <td>-0.339846</td>\n",
              "      <td>0.167170</td>\n",
              "      <td>0.125895</td>\n",
              "      <td>-0.008983</td>\n",
              "      <td>0.014724</td>\n",
              "      <td>2.69</td>\n",
              "      <td>0</td>\n",
              "    </tr>\n",
              "    <tr>\n",
              "      <th>2</th>\n",
              "      <td>1.0</td>\n",
              "      <td>-1.358354</td>\n",
              "      <td>-1.340163</td>\n",
              "      <td>1.773209</td>\n",
              "      <td>0.379780</td>\n",
              "      <td>-0.503198</td>\n",
              "      <td>1.800499</td>\n",
              "      <td>0.791461</td>\n",
              "      <td>0.247676</td>\n",
              "      <td>-1.514654</td>\n",
              "      <td>0.207643</td>\n",
              "      <td>0.624501</td>\n",
              "      <td>0.066084</td>\n",
              "      <td>0.717293</td>\n",
              "      <td>-0.165946</td>\n",
              "      <td>2.345865</td>\n",
              "      <td>-2.890083</td>\n",
              "      <td>1.109969</td>\n",
              "      <td>-0.121359</td>\n",
              "      <td>-2.261857</td>\n",
              "      <td>0.524980</td>\n",
              "      <td>0.247998</td>\n",
              "      <td>0.771679</td>\n",
              "      <td>0.909412</td>\n",
              "      <td>-0.689281</td>\n",
              "      <td>-0.327642</td>\n",
              "      <td>-0.139097</td>\n",
              "      <td>-0.055353</td>\n",
              "      <td>-0.059752</td>\n",
              "      <td>378.66</td>\n",
              "      <td>0</td>\n",
              "    </tr>\n",
              "    <tr>\n",
              "      <th>3</th>\n",
              "      <td>1.0</td>\n",
              "      <td>-0.966272</td>\n",
              "      <td>-0.185226</td>\n",
              "      <td>1.792993</td>\n",
              "      <td>-0.863291</td>\n",
              "      <td>-0.010309</td>\n",
              "      <td>1.247203</td>\n",
              "      <td>0.237609</td>\n",
              "      <td>0.377436</td>\n",
              "      <td>-1.387024</td>\n",
              "      <td>-0.054952</td>\n",
              "      <td>-0.226487</td>\n",
              "      <td>0.178228</td>\n",
              "      <td>0.507757</td>\n",
              "      <td>-0.287924</td>\n",
              "      <td>-0.631418</td>\n",
              "      <td>-1.059647</td>\n",
              "      <td>-0.684093</td>\n",
              "      <td>1.965775</td>\n",
              "      <td>-1.232622</td>\n",
              "      <td>-0.208038</td>\n",
              "      <td>-0.108300</td>\n",
              "      <td>0.005274</td>\n",
              "      <td>-0.190321</td>\n",
              "      <td>-1.175575</td>\n",
              "      <td>0.647376</td>\n",
              "      <td>-0.221929</td>\n",
              "      <td>0.062723</td>\n",
              "      <td>0.061458</td>\n",
              "      <td>123.50</td>\n",
              "      <td>0</td>\n",
              "    </tr>\n",
              "    <tr>\n",
              "      <th>4</th>\n",
              "      <td>2.0</td>\n",
              "      <td>-1.158233</td>\n",
              "      <td>0.877737</td>\n",
              "      <td>1.548718</td>\n",
              "      <td>0.403034</td>\n",
              "      <td>-0.407193</td>\n",
              "      <td>0.095921</td>\n",
              "      <td>0.592941</td>\n",
              "      <td>-0.270533</td>\n",
              "      <td>0.817739</td>\n",
              "      <td>0.753074</td>\n",
              "      <td>-0.822843</td>\n",
              "      <td>0.538196</td>\n",
              "      <td>1.345852</td>\n",
              "      <td>-1.119670</td>\n",
              "      <td>0.175121</td>\n",
              "      <td>-0.451449</td>\n",
              "      <td>-0.237033</td>\n",
              "      <td>-0.038195</td>\n",
              "      <td>0.803487</td>\n",
              "      <td>0.408542</td>\n",
              "      <td>-0.009431</td>\n",
              "      <td>0.798278</td>\n",
              "      <td>-0.137458</td>\n",
              "      <td>0.141267</td>\n",
              "      <td>-0.206010</td>\n",
              "      <td>0.502292</td>\n",
              "      <td>0.219422</td>\n",
              "      <td>0.215153</td>\n",
              "      <td>69.99</td>\n",
              "      <td>0</td>\n",
              "    </tr>\n",
              "  </tbody>\n",
              "</table>\n",
              "</div>"
            ],
            "text/plain": [
              "   Time        V1        V2        V3  ...       V27       V28  Amount  Class\n",
              "0   0.0 -1.359807 -0.072781  2.536347  ...  0.133558 -0.021053  149.62      0\n",
              "1   0.0  1.191857  0.266151  0.166480  ... -0.008983  0.014724    2.69      0\n",
              "2   1.0 -1.358354 -1.340163  1.773209  ... -0.055353 -0.059752  378.66      0\n",
              "3   1.0 -0.966272 -0.185226  1.792993  ...  0.062723  0.061458  123.50      0\n",
              "4   2.0 -1.158233  0.877737  1.548718  ...  0.219422  0.215153   69.99      0\n",
              "\n",
              "[5 rows x 31 columns]"
            ]
          },
          "metadata": {
            "tags": []
          },
          "execution_count": 4
        }
      ]
    },
    {
      "cell_type": "markdown",
      "metadata": {
        "id": "-e9s8hcDQ9aw",
        "colab_type": "text"
      },
      "source": [
        "**Split the dataframe into train, validation, and test**\n",
        "\n",
        "Split the dataset into train, validation, and test sets. The validation set is used during the model fitting to evaluate the loss and any metrics, however the model is not fit with this data. The test set is completely unused during the training phase and is only used at the end to evaluate how well the model generalizes to new data. This is especially important with imbalanced datasets where overfitting is a significant concern from the lack of training data."
      ]
    },
    {
      "cell_type": "code",
      "metadata": {
        "id": "o4VUPYUQSamt",
        "colab_type": "code",
        "colab": {}
      },
      "source": [
        "# Use a utility from sklearn to split and shuffle our dataset.\n",
        "train_df, test_df = train_test_split(raw_df, test_size=0.2)\n",
        "train_df, val_df = train_test_split(train_df, test_size=0.2)\n"
      ],
      "execution_count": 0,
      "outputs": []
    },
    {
      "cell_type": "code",
      "metadata": {
        "id": "VoSmv-WNSdGQ",
        "colab_type": "code",
        "colab": {}
      },
      "source": [
        "# Form np arrays of labels and features.\n",
        "train_labels = np.array(train_df.pop('Class'))\n",
        "val_labels = np.array(val_df.pop('Class'))\n",
        "test_labels = np.array(test_df.pop('Class'))\n"
      ],
      "execution_count": 0,
      "outputs": []
    },
    {
      "cell_type": "code",
      "metadata": {
        "id": "_loeM1qZSiD-",
        "colab_type": "code",
        "colab": {
          "base_uri": "https://localhost:8080/",
          "height": 69
        },
        "outputId": "a79ee934-3e8b-49e6-8e64-82373a7f85cb"
      },
      "source": [
        "\n",
        "print('Training labels shape:', train_labels.shape)\n",
        "print('Validation labels shape:', val_labels.shape)\n",
        "print('Test labels shape:', test_labels.shape)\n"
      ],
      "execution_count": 15,
      "outputs": [
        {
          "output_type": "stream",
          "text": [
            "Training labels shape: (182276,)\n",
            "Validation labels shape: (45569,)\n",
            "Test labels shape: (56962,)\n"
          ],
          "name": "stdout"
        }
      ]
    },
    {
      "cell_type": "code",
      "metadata": {
        "id": "CJnp8KAdRARG",
        "colab_type": "code",
        "colab": {
          "base_uri": "https://localhost:8080/",
          "height": 69
        },
        "outputId": "6079413b-6c19-47f8-e78c-4216fe8dffc7"
      },
      "source": [
        "train_features = np.array(train_df)\n",
        "val_features = np.array(val_df)\n",
        "test_features = np.array(test_df)\n",
        "\n",
        "# Normalize the input features using the sklearn StandardScaler.\n",
        "# This will set the mean to 0 and standard deviation to 1.\n",
        "scaler = StandardScaler()\n",
        "train_features = scaler.fit_transform(train_features)\n",
        "val_features = scaler.transform(val_features)\n",
        "test_features = scaler.transform(test_features)\n",
        "\n",
        "print('Training features shape:', train_features.shape)\n",
        "print('Validation features shape:', val_features.shape)\n",
        "print('Test features shape:', test_features.shape)"
      ],
      "execution_count": 17,
      "outputs": [
        {
          "output_type": "stream",
          "text": [
            "Training features shape: (182276, 30)\n",
            "Validation features shape: (45569, 30)\n",
            "Test features shape: (56962, 30)\n"
          ],
          "name": "stdout"
        }
      ]
    },
    {
      "cell_type": "code",
      "metadata": {
        "id": "8q2MLc8jTQQn",
        "colab_type": "code",
        "colab": {}
      },
      "source": [
        ""
      ],
      "execution_count": 0,
      "outputs": []
    },
    {
      "cell_type": "markdown",
      "metadata": {
        "id": "4GN89fffTUK2",
        "colab_type": "text"
      },
      "source": [
        "## Examine the class label imbalance\n",
        "Let's look at the dataset imbalance: "
      ]
    },
    {
      "cell_type": "code",
      "metadata": {
        "id": "xfpEZ0JQTVQY",
        "colab_type": "code",
        "colab": {
          "base_uri": "https://localhost:8080/",
          "height": 34
        },
        "outputId": "71840c60-0243-4be5-eb1a-9405dfba0586"
      },
      "source": [
        "neg, pos = np.bincount(train_labels)\n",
        "total = neg + pos\n",
        "print('{} positive samples out of {} training samples ({:.2f}% of total)'.format(\n",
        "    pos, total, 100 * pos / total))"
      ],
      "execution_count": 18,
      "outputs": [
        {
          "output_type": "stream",
          "text": [
            "325 positive samples out of 182276 training samples (0.18% of total)\n"
          ],
          "name": "stdout"
        }
      ]
    },
    {
      "cell_type": "code",
      "metadata": {
        "id": "B6hkBHHnTfrf",
        "colab_type": "code",
        "colab": {}
      },
      "source": [
        ""
      ],
      "execution_count": 0,
      "outputs": []
    },
    {
      "cell_type": "markdown",
      "metadata": {
        "id": "MAjjK5aTTnos",
        "colab_type": "text"
      },
      "source": [
        "## Define the model and metrics\n",
        "Define a function that creates a simple neural network with three densely connected hidden layers, an output sigmoid layer that returns the probability of a transaction being fraudulent, and two dropout layers as an effective way to reduce overfitting.**"
      ]
    },
    {
      "cell_type": "code",
      "metadata": {
        "id": "0djDRRRGToZC",
        "colab_type": "code",
        "colab": {}
      },
      "source": [
        "def make_model():\n",
        "  model = keras.Sequential([\n",
        "      keras.layers.Dense(256, activation='relu',\n",
        "                         input_shape=(train_features.shape[-1],)),\n",
        "      keras.layers.Dense(256, activation='relu'),\n",
        "      keras.layers.Dropout(0.3),\n",
        "      keras.layers.Dense(256, activation='relu'),\n",
        "      keras.layers.Dropout(0.3),\n",
        "      keras.layers.Dense(1, activation='sigmoid'),\n",
        "  ])\n",
        "\n",
        "  metrics = [\n",
        "      keras.metrics.Accuracy(name='accuracy'),\n",
        "      keras.metrics.TruePositives(name='tp'),\n",
        "      keras.metrics.FalsePositives(name='fp'),\n",
        "      keras.metrics.TrueNegatives(name='tn'),\n",
        "      keras.metrics.FalseNegatives(name='fn'),\n",
        "      keras.metrics.Precision(name='precision'),\n",
        "      keras.metrics.Recall(name='recall'),\n",
        "      keras.metrics.AUC(name='auc')\n",
        "  ]\n",
        "\n",
        "  model.compile(\n",
        "      optimizer='adam',\n",
        "      loss='binary_crossentropy',\n",
        "      metrics=metrics)\n",
        "  \n",
        "  return model"
      ],
      "execution_count": 0,
      "outputs": []
    },
    {
      "cell_type": "code",
      "metadata": {
        "id": "SNkuyTg9T2Wq",
        "colab_type": "code",
        "colab": {}
      },
      "source": [
        ""
      ],
      "execution_count": 0,
      "outputs": []
    },
    {
      "cell_type": "markdown",
      "metadata": {
        "id": "NF-XOhjnT4_o",
        "colab_type": "text"
      },
      "source": [
        "## Understanding useful metrics\n",
        "Notice that there are a few metrics defined above that can be computed by the model that will be helpful when evaluating the performance.\n",
        "\n",
        "**False negatives and false positives** are samples that were incorrectly classified\n",
        "\n",
        "**True negatives and true positives** are samples that were correctly classified\n",
        "\n",
        "**Accuracy** is the percentage of examples correctly classified \n",
        "\n",
        "**Precision** is the percentage of predicted positives that were correctly classified \n",
        "\n",
        "**Recall** is the percentage of actual positives that were correctly classified \n",
        "\n",
        "**AUC** refers to the Area Under the Curve of a Receiver Operating Characteristic curve (ROC-AUC). **This metric is equal to the probability that a classifier will rank a random positive sample higher than than a random negative sample.**\n"
      ]
    },
    {
      "cell_type": "code",
      "metadata": {
        "id": "VwiqLXvXT5av",
        "colab_type": "code",
        "colab": {}
      },
      "source": [
        ""
      ],
      "execution_count": 0,
      "outputs": []
    },
    {
      "cell_type": "markdown",
      "metadata": {
        "id": "sNuwGs2oUuOB",
        "colab_type": "text"
      },
      "source": [
        "## Train a baseline model\n",
        "Now create and train your model using the function that was defined earlier. Notice that the model is fit using a larger than default batch size of 2048, **this is important to ensure that each batch has a decent chance of containing a few positive samples. If the batch size was too small, they would likely have no fraudelent transactions to learn from.**"
      ]
    },
    {
      "cell_type": "code",
      "metadata": {
        "id": "B3hyxKhUUwJ3",
        "colab_type": "code",
        "colab": {
          "base_uri": "https://localhost:8080/",
          "height": 509
        },
        "outputId": "2bf4e78b-d558-4efc-ad90-c5eec0aba95a"
      },
      "source": [
        "model = make_model()\n",
        "\n",
        "EPOCHS = 10\n",
        "BATCH_SIZE = 2048\n",
        "\n",
        "history = model.fit(\n",
        "    train_features,\n",
        "    train_labels,\n",
        "    batch_size=BATCH_SIZE,\n",
        "    epochs=EPOCHS,\n",
        "    validation_data=(val_features, val_labels))"
      ],
      "execution_count": 20,
      "outputs": [
        {
          "output_type": "stream",
          "text": [
            "WARNING:tensorflow:From /usr/local/lib/python3.6/dist-packages/tensorflow/python/ops/init_ops.py:1251: calling VarianceScaling.__init__ (from tensorflow.python.ops.init_ops) with dtype is deprecated and will be removed in a future version.\n",
            "Instructions for updating:\n",
            "Call initializer instance with the dtype argument instead of passing it to the constructor\n",
            "WARNING:tensorflow:From /usr/local/lib/python3.6/dist-packages/tensorflow/python/ops/nn_impl.py:180: add_dispatch_support.<locals>.wrapper (from tensorflow.python.ops.array_ops) is deprecated and will be removed in a future version.\n",
            "Instructions for updating:\n",
            "Use tf.where in 2.0, which has the same broadcast rule as np.where\n",
            "Train on 182276 samples, validate on 45569 samples\n",
            "Epoch 1/10\n",
            "182276/182276 [==============================] - 7s 37us/sample - loss: 0.0305 - accuracy: 0.0216 - tp: 54.0000 - fp: 79.0000 - tn: 181872.0000 - fn: 271.0000 - precision: 0.4060 - recall: 0.1662 - auc: 0.7424 - val_loss: 0.0030 - val_accuracy: 0.0133 - val_tp: 48.0000 - val_fp: 8.0000 - val_tn: 45497.0000 - val_fn: 16.0000 - val_precision: 0.8571 - val_recall: 0.7500 - val_auc: 0.9208\n",
            "Epoch 2/10\n",
            "182276/182276 [==============================] - 6s 35us/sample - loss: 0.0039 - accuracy: 0.0157 - tp: 221.0000 - fp: 44.0000 - tn: 181907.0000 - fn: 104.0000 - precision: 0.8340 - recall: 0.6800 - auc: 0.9356 - val_loss: 0.0024 - val_accuracy: 0.0171 - val_tp: 52.0000 - val_fp: 9.0000 - val_tn: 45496.0000 - val_fn: 12.0000 - val_precision: 0.8525 - val_recall: 0.8125 - val_auc: 0.9446\n",
            "Epoch 3/10\n",
            "182276/182276 [==============================] - 6s 35us/sample - loss: 0.0034 - accuracy: 0.0270 - tp: 236.0000 - fp: 44.0000 - tn: 181907.0000 - fn: 89.0000 - precision: 0.8429 - recall: 0.7262 - auc: 0.9483 - val_loss: 0.0023 - val_accuracy: 0.0153 - val_tp: 52.0000 - val_fp: 9.0000 - val_tn: 45496.0000 - val_fn: 12.0000 - val_precision: 0.8525 - val_recall: 0.8125 - val_auc: 0.9448\n",
            "Epoch 4/10\n",
            "182276/182276 [==============================] - 7s 36us/sample - loss: 0.0031 - accuracy: 0.0304 - tp: 248.0000 - fp: 50.0000 - tn: 181901.0000 - fn: 77.0000 - precision: 0.8322 - recall: 0.7631 - auc: 0.9545 - val_loss: 0.0022 - val_accuracy: 0.0196 - val_tp: 54.0000 - val_fp: 10.0000 - val_tn: 45495.0000 - val_fn: 10.0000 - val_precision: 0.8438 - val_recall: 0.8438 - val_auc: 0.9524\n",
            "Epoch 5/10\n",
            "182276/182276 [==============================] - 7s 36us/sample - loss: 0.0028 - accuracy: 0.0459 - tp: 256.0000 - fp: 50.0000 - tn: 181901.0000 - fn: 69.0000 - precision: 0.8366 - recall: 0.7877 - auc: 0.9547 - val_loss: 0.0022 - val_accuracy: 0.0361 - val_tp: 52.0000 - val_fp: 10.0000 - val_tn: 45495.0000 - val_fn: 12.0000 - val_precision: 0.8387 - val_recall: 0.8125 - val_auc: 0.9448\n",
            "Epoch 6/10\n",
            "182276/182276 [==============================] - 6s 35us/sample - loss: 0.0026 - accuracy: 0.0575 - tp: 252.0000 - fp: 42.0000 - tn: 181909.0000 - fn: 73.0000 - precision: 0.8571 - recall: 0.7754 - auc: 0.9655 - val_loss: 0.0021 - val_accuracy: 0.0577 - val_tp: 53.0000 - val_fp: 8.0000 - val_tn: 45497.0000 - val_fn: 11.0000 - val_precision: 0.8689 - val_recall: 0.8281 - val_auc: 0.9526\n",
            "Epoch 7/10\n",
            "182276/182276 [==============================] - 6s 35us/sample - loss: 0.0023 - accuracy: 0.0873 - tp: 253.0000 - fp: 35.0000 - tn: 181916.0000 - fn: 72.0000 - precision: 0.8785 - recall: 0.7785 - auc: 0.9749 - val_loss: 0.0021 - val_accuracy: 0.0816 - val_tp: 52.0000 - val_fp: 9.0000 - val_tn: 45496.0000 - val_fn: 12.0000 - val_precision: 0.8525 - val_recall: 0.8125 - val_auc: 0.9449\n",
            "Epoch 8/10\n",
            "182276/182276 [==============================] - 6s 35us/sample - loss: 0.0021 - accuracy: 0.1064 - tp: 258.0000 - fp: 30.0000 - tn: 181921.0000 - fn: 67.0000 - precision: 0.8958 - recall: 0.7938 - auc: 0.9765 - val_loss: 0.0021 - val_accuracy: 0.1247 - val_tp: 53.0000 - val_fp: 10.0000 - val_tn: 45495.0000 - val_fn: 11.0000 - val_precision: 0.8413 - val_recall: 0.8281 - val_auc: 0.9449\n",
            "Epoch 9/10\n",
            "182276/182276 [==============================] - 7s 36us/sample - loss: 0.0019 - accuracy: 0.1645 - tp: 268.0000 - fp: 30.0000 - tn: 181921.0000 - fn: 57.0000 - precision: 0.8993 - recall: 0.8246 - auc: 0.9735 - val_loss: 0.0022 - val_accuracy: 0.1658 - val_tp: 54.0000 - val_fp: 10.0000 - val_tn: 45495.0000 - val_fn: 10.0000 - val_precision: 0.8438 - val_recall: 0.8438 - val_auc: 0.9371\n",
            "Epoch 10/10\n",
            "182276/182276 [==============================] - 6s 35us/sample - loss: 0.0018 - accuracy: 0.1836 - tp: 268.0000 - fp: 26.0000 - tn: 181925.0000 - fn: 57.0000 - precision: 0.9116 - recall: 0.8246 - auc: 0.9751 - val_loss: 0.0022 - val_accuracy: 0.1598 - val_tp: 54.0000 - val_fp: 10.0000 - val_tn: 45495.0000 - val_fn: 10.0000 - val_precision: 0.8438 - val_recall: 0.8438 - val_auc: 0.9448\n"
          ],
          "name": "stdout"
        }
      ]
    },
    {
      "cell_type": "code",
      "metadata": {
        "id": "nX0WprV1U7l3",
        "colab_type": "code",
        "colab": {}
      },
      "source": [
        ""
      ],
      "execution_count": 0,
      "outputs": []
    },
    {
      "cell_type": "markdown",
      "metadata": {
        "id": "jt2IQAcUU-Kh",
        "colab_type": "text"
      },
      "source": [
        "## Plot metrics on the training and validation sets\n",
        "In this section, you will produce plots of your model's accuracy and loss on the training and validation set. These are useful to check for overfitting, which you can learn more about in this tutorial.\n",
        "\n",
        "Additionally, you can produce these plots for any of the metrics you created above. False negatives are included as an example."
      ]
    },
    {
      "cell_type": "code",
      "metadata": {
        "id": "kD9tVRmhVCL0",
        "colab_type": "code",
        "colab": {
          "base_uri": "https://localhost:8080/",
          "height": 868
        },
        "outputId": "a5b281e2-f18a-4419-852b-ce07c761438e"
      },
      "source": [
        "epochs = range(EPOCHS)\n",
        "\n",
        "plt.title('Accuracy')\n",
        "plt.plot(epochs,  history.history['accuracy'], color='blue', label='Train')\n",
        "plt.plot(epochs, history.history['val_accuracy'], color='orange', label='Val')\n",
        "plt.xlabel('Epoch')\n",
        "plt.ylabel('Accuracy')\n",
        "plt.legend()\n",
        "\n",
        "_ = plt.figure()\n",
        "plt.title('Loss')\n",
        "plt.plot(epochs, history.history['loss'], color='blue', label='Train')\n",
        "plt.plot(epochs, history.history['val_loss'], color='orange', label='Val')\n",
        "plt.xlabel('Epoch')\n",
        "plt.ylabel('Loss')\n",
        "plt.legend()\n",
        "\n",
        "_ = plt.figure()\n",
        "plt.title('False Negatives')\n",
        "plt.plot(epochs, history.history['fn'], color='blue', label='Train')\n",
        "plt.plot(epochs, history.history['val_fn'], color='orange', label='Val')\n",
        "plt.xlabel('Epoch')\n",
        "plt.ylabel('False Negatives')\n",
        "plt.legend()"
      ],
      "execution_count": 21,
      "outputs": [
        {
          "output_type": "execute_result",
          "data": {
            "text/plain": [
              "<matplotlib.legend.Legend at 0x7f9641e87c88>"
            ]
          },
          "metadata": {
            "tags": []
          },
          "execution_count": 21
        },
        {
          "output_type": "display_data",
          "data": {
            "image/png": "[encoded data removed]",
            "text/plain": [
              "<Figure size 432x288 with 1 Axes>"
            ]
          },
          "metadata": {
            "tags": []
          }
        },
        {
          "output_type": "display_data",
          "data": {
            "image/png": "[encoded data removed]",
            "text/plain": [
              "<Figure size 432x288 with 1 Axes>"
            ]
          },
          "metadata": {
            "tags": []
          }
        },
        {
          "output_type": "display_data",
          "data": {
            "image/png": "[encoded data removed]",
            "text/plain": [
              "<Figure size 432x288 with 1 Axes>"
            ]
          },
          "metadata": {
            "tags": []
          }
        }
      ]
    },
    {
      "cell_type": "code",
      "metadata": {
        "id": "NzYl0ZtBVOGm",
        "colab_type": "code",
        "colab": {
          "base_uri": "https://localhost:8080/",
          "height": 312
        },
        "outputId": "bd504df0-e0c2-41e2-f04a-3b79506521e0"
      },
      "source": [
        "_ = plt.figure()\n",
        "plt.title('Recall')\n",
        "plt.plot(epochs, history.history['recall'], color='blue', label='Train')\n",
        "plt.plot(epochs, history.history['val_recall'], color='orange', label='Val')\n",
        "plt.xlabel('Epoch')\n",
        "plt.ylabel('Recall')\n",
        "plt.legend()"
      ],
      "execution_count": 22,
      "outputs": [
        {
          "output_type": "execute_result",
          "data": {
            "text/plain": [
              "<matplotlib.legend.Legend at 0x7f963f580438>"
            ]
          },
          "metadata": {
            "tags": []
          },
          "execution_count": 22
        },
        {
          "output_type": "display_data",
          "data": {
            "image/png": "[encoded data removed]",
            "text/plain": [
              "<Figure size 432x288 with 1 Axes>"
            ]
          },
          "metadata": {
            "tags": []
          }
        }
      ]
    },
    {
      "cell_type": "code",
      "metadata": {
        "id": "FhQ-iar3Va7B",
        "colab_type": "code",
        "colab": {
          "base_uri": "https://localhost:8080/",
          "height": 312
        },
        "outputId": "2fe8b9b8-1466-4a01-fa20-cbd8f6ef87f2"
      },
      "source": [
        "_ = plt.figure()\n",
        "plt.title('Precision')\n",
        "plt.plot(epochs, history.history['precision'], color='blue', label='Train')\n",
        "plt.plot(epochs, history.history['val_precision'], color='orange', label='Val')\n",
        "plt.xlabel('Epoch')\n",
        "plt.ylabel('Precision')\n",
        "plt.legend()"
      ],
      "execution_count": 23,
      "outputs": [
        {
          "output_type": "execute_result",
          "data": {
            "text/plain": [
              "<matplotlib.legend.Legend at 0x7f963f5690f0>"
            ]
          },
          "metadata": {
            "tags": []
          },
          "execution_count": 23
        },
        {
          "output_type": "display_data",
          "data": {
            "image/png": "[encoded data removed]",
            "text/plain": [
              "<Figure size 432x288 with 1 Axes>"
            ]
          },
          "metadata": {
            "tags": []
          }
        }
      ]
    },
    {
      "cell_type": "code",
      "metadata": {
        "id": "DFZgF7NTVj-d",
        "colab_type": "code",
        "colab": {}
      },
      "source": [
        ""
      ],
      "execution_count": 0,
      "outputs": []
    },
    {
      "cell_type": "markdown",
      "metadata": {
        "id": "_gTW_lSOVm2f",
        "colab_type": "text"
      },
      "source": [
        "## Evaluate the baseline model\n",
        "\n",
        "Evaluate your model on the test dataset and display results for the metrics you created above."
      ]
    },
    {
      "cell_type": "code",
      "metadata": {
        "id": "JnOUpQXrVo_q",
        "colab_type": "code",
        "colab": {
          "base_uri": "https://localhost:8080/",
          "height": 212
        },
        "outputId": "9937af6f-6761-4be2-9612-36bc9db898c2"
      },
      "source": [
        "results = model.evaluate(test_features, test_labels, verbose=2)\n",
        "for name, value in zip(model.metrics_names, results):\n",
        "  print(name, ': ', value)"
      ],
      "execution_count": 24,
      "outputs": [
        {
          "output_type": "stream",
          "text": [
            "56962/56962 - 3s - loss: 0.0039 - accuracy: 0.1614 - tp: 82.0000 - fp: 12.0000 - tn: 56847.0000 - fn: 21.0000 - precision: 0.8723 - recall: 0.7961 - auc: 0.9361\n",
            "loss :  0.003946262024504068\n",
            "accuracy :  0.1614234\n",
            "tp :  82.0\n",
            "fp :  12.0\n",
            "tn :  56847.0\n",
            "fn :  21.0\n",
            "precision :  0.87234044\n",
            "recall :  0.79611653\n",
            "auc :  0.9361114\n"
          ],
          "name": "stdout"
        }
      ]
    },
    {
      "cell_type": "markdown",
      "metadata": {
        "id": "2XCwaQ-8VxCN",
        "colab_type": "text"
      },
      "source": [
        "**It looks like the precision is relatively high, but the recall and AUC aren't as high as you might like.**\n",
        "\n",
        "Classifiers often face challenges when trying to maximize both precision and recall, which is especially true when working with imbalanced datasets. **However, because missing fraudulent transactions (false negatives) may have significantly worse business consequences than incorrectly flagging fraudulent transactions (false positives), recall may be more important than precision in this case.**\n",
        "\n",
        "Examine the confusion matrix\n",
        "You can use a confusion matrix to summarize the actual vs. predicted labels where the X axis is the predicted label and the Y axis is the actual label"
      ]
    },
    {
      "cell_type": "code",
      "metadata": {
        "id": "3QOSEGE_Vs-W",
        "colab_type": "code",
        "colab": {
          "base_uri": "https://localhost:8080/",
          "height": 382
        },
        "outputId": "d9a64884-7c4f-4a8c-e059-47937ae30210"
      },
      "source": [
        "predicted_labels = model.predict(test_features)\n",
        "cm = confusion_matrix(test_labels, np.round(predicted_labels))\n",
        "\n",
        "plt.matshow(cm, alpha=0)\n",
        "plt.title('Confusion matrix')\n",
        "plt.ylabel('Actual label')\n",
        "plt.xlabel('Predicted label')\n",
        "\n",
        "for (i, j), z in np.ndenumerate(cm):\n",
        "    plt.text(j, i, str(z), ha='center', va='center')\n",
        "    \n",
        "plt.show()\n",
        "\n",
        "print('Legitimate Transactions Detected (True Negatives): ', cm[0][0])\n",
        "print('Legitimate Transactions Incorrectly Detected (False Positives): ', cm[0][1])\n",
        "print('Fraudulent Transactions Missed (False Negatives): ', cm[1][0])\n",
        "print('Fraudulent Transactions Detected (True Positives): ', cm[1][1])\n",
        "print('Total Fraudulent Transactions: ', np.sum(cm[1]))"
      ],
      "execution_count": 25,
      "outputs": [
        {
          "output_type": "display_data",
          "data": {
            "image/png": "[encoded data removed]",
            "text/plain": [
              "<Figure size 288x288 with 1 Axes>"
            ]
          },
          "metadata": {
            "tags": []
          }
        },
        {
          "output_type": "stream",
          "text": [
            "Legitimate Transactions Detected (True Negatives):  56847\n",
            "Legitimate Transactions Incorrectly Detected (False Positives):  12\n",
            "Fraudulent Transactions Missed (False Negatives):  21\n",
            "Fraudulent Transactions Detected (True Positives):  82\n",
            "Total Fraudulent Transactions:  103\n"
          ],
          "name": "stdout"
        }
      ]
    },
    {
      "cell_type": "markdown",
      "metadata": {
        "id": "LKC7-4SHW7hZ",
        "colab_type": "text"
      },
      "source": [
        "If the model had predicted everything perfectly, this would be a diagonal matrix where values off the main diagonal, indicating incorrect predictions, would be zero. In this case the matrix shows that you have relatively **few false positives, meaning that there were relatively few legitimate transactions that were incorrectly flagged.** However, you would likely want to have even fewer false negatives despite the cost of increasing the number of false positives. **This trade off may be preferable because false negatives would allow fraudulent transactions to go through, whereas false positives may cause an email to be sent to a customer to ask them to verify their card activity.**\n",
        "\n",
        "## Using class weights for the loss function\n",
        "\n",
        "The goal is to identify fradulent transactions, but you don't have very many of those positive samples to work with, so you would want to **have the classifier heavily weight the few examples that are available**. You can do this by passing Keras weights for each class through a parameter. These will cause the model to \"pay more attention\" to examples from an under-represented class."
      ]
    },
    {
      "cell_type": "code",
      "metadata": {
        "id": "-EYSIjgeYGtv",
        "colab_type": "code",
        "colab": {
          "base_uri": "https://localhost:8080/",
          "height": 52
        },
        "outputId": "ca9f5fb8-9721-4005-bc99-dc2ca5d8e413"
      },
      "source": [
        "weight_for_0 = 1 / neg\n",
        "weight_for_1 = 1 / pos\n",
        "\n",
        "class_weight = {0: weight_for_0, 1: weight_for_1}\n",
        "\n",
        "print('Weight for class 0: {:.2e}'.format(weight_for_0))\n",
        "print('Weight for class 1: {:.2e}'.format(weight_for_1))"
      ],
      "execution_count": 26,
      "outputs": [
        {
          "output_type": "stream",
          "text": [
            "Weight for class 0: 5.50e-06\n",
            "Weight for class 1: 3.08e-03\n"
          ],
          "name": "stdout"
        }
      ]
    },
    {
      "cell_type": "code",
      "metadata": {
        "id": "4TsYauq4YK2p",
        "colab_type": "code",
        "colab": {}
      },
      "source": [
        ""
      ],
      "execution_count": 0,
      "outputs": []
    },
    {
      "cell_type": "markdown",
      "metadata": {
        "id": "HhD5RQ2GYRKS",
        "colab_type": "text"
      },
      "source": [
        "## Train a model with class weights\n",
        "\n",
        "Now try re-training and evaluating the model with class weights to see how that affects the predictions.\n",
        "\n",
        "Using class_weights changes the range of the loss.**This may affect the stability of the training depending on the optimizer.** Optimizers who's step size is dependent on the magnitude of the gradient, like optimizers.SGD, may fail. **The optimizer used here, optimizers.Adam, is unaffected by the scaling change. Also note that because of the weighting, the total losses are not comparable between the two models.**"
      ]
    },
    {
      "cell_type": "code",
      "metadata": {
        "id": "0SUcvcQKYTdj",
        "colab_type": "code",
        "colab": {
          "base_uri": "https://localhost:8080/",
          "height": 404
        },
        "outputId": "7d3c817d-bf7b-408d-f4ad-f5207c4ce09c"
      },
      "source": [
        "weighted_model = make_model()\n",
        "\n",
        "weighted_history = weighted_model.fit(\n",
        "    train_features,\n",
        "    train_labels,\n",
        "    batch_size=BATCH_SIZE,\n",
        "    epochs=EPOCHS,\n",
        "    validation_data=(val_features, val_labels),\n",
        "    class_weight=class_weight)"
      ],
      "execution_count": 27,
      "outputs": [
        {
          "output_type": "stream",
          "text": [
            "Train on 182276 samples, validate on 45569 samples\n",
            "Epoch 1/10\n",
            "182276/182276 [==============================] - 7s 37us/sample - loss: 4.6522e-06 - accuracy: 5.4862e-06 - tp: 293.0000 - fp: 61427.0000 - tn: 120524.0000 - fn: 32.0000 - precision: 0.0047 - recall: 0.9015 - auc: 0.9123 - val_loss: 0.3495 - val_accuracy: 0.0000e+00 - val_tp: 56.0000 - val_fp: 209.0000 - val_tn: 45296.0000 - val_fn: 8.0000 - val_precision: 0.2113 - val_recall: 0.8750 - val_auc: 0.9661\n",
            "Epoch 2/10\n",
            "182276/182276 [==============================] - 6s 33us/sample - loss: 2.7319e-06 - accuracy: 2.0299e-04 - tp: 284.0000 - fp: 2824.0000 - tn: 179127.0000 - fn: 41.0000 - precision: 0.0914 - recall: 0.8738 - auc: 0.9556 - val_loss: 0.2053 - val_accuracy: 3.5112e-04 - val_tp: 57.0000 - val_fp: 791.0000 - val_tn: 44714.0000 - val_fn: 7.0000 - val_precision: 0.0672 - val_recall: 0.8906 - val_auc: 0.9756\n",
            "Epoch 3/10\n",
            "182276/182276 [==============================] - 6s 32us/sample - loss: 1.8350e-06 - accuracy: 3.7306e-04 - tp: 294.0000 - fp: 3191.0000 - tn: 178760.0000 - fn: 31.0000 - precision: 0.0844 - recall: 0.9046 - auc: 0.9788 - val_loss: 0.1121 - val_accuracy: 4.6084e-04 - val_tp: 58.0000 - val_fp: 682.0000 - val_tn: 44823.0000 - val_fn: 6.0000 - val_precision: 0.0784 - val_recall: 0.9062 - val_auc: 0.9788\n",
            "Epoch 4/10\n",
            "182276/182276 [==============================] - 6s 33us/sample - loss: 1.4741e-06 - accuracy: 4.9376e-04 - tp: 299.0000 - fp: 3814.0000 - tn: 178137.0000 - fn: 26.0000 - precision: 0.0727 - recall: 0.9200 - auc: 0.9865 - val_loss: 0.0743 - val_accuracy: 5.4862e-04 - val_tp: 59.0000 - val_fp: 527.0000 - val_tn: 44978.0000 - val_fn: 5.0000 - val_precision: 0.1007 - val_recall: 0.9219 - val_auc: 0.9824\n",
            "Epoch 5/10\n",
            "182276/182276 [==============================] - 6s 32us/sample - loss: 1.4160e-06 - accuracy: 5.7605e-04 - tp: 300.0000 - fp: 4422.0000 - tn: 177529.0000 - fn: 25.0000 - precision: 0.0635 - recall: 0.9231 - auc: 0.9880 - val_loss: 0.0906 - val_accuracy: 5.4862e-04 - val_tp: 59.0000 - val_fp: 871.0000 - val_tn: 44634.0000 - val_fn: 5.0000 - val_precision: 0.0634 - val_recall: 0.9219 - val_auc: 0.9831\n",
            "Epoch 6/10\n",
            "182276/182276 [==============================] - 6s 32us/sample - loss: 1.2333e-06 - accuracy: 5.7605e-04 - tp: 302.0000 - fp: 3890.0000 - tn: 178061.0000 - fn: 23.0000 - precision: 0.0720 - recall: 0.9292 - auc: 0.9917 - val_loss: 0.0728 - val_accuracy: 6.1445e-04 - val_tp: 58.0000 - val_fp: 781.0000 - val_tn: 44724.0000 - val_fn: 6.0000 - val_precision: 0.0691 - val_recall: 0.9062 - val_auc: 0.9857\n",
            "Epoch 7/10\n",
            "182276/182276 [==============================] - 6s 32us/sample - loss: 1.1606e-06 - accuracy: 7.0772e-04 - tp: 304.0000 - fp: 4122.0000 - tn: 177829.0000 - fn: 21.0000 - precision: 0.0687 - recall: 0.9354 - auc: 0.9917 - val_loss: 0.0453 - val_accuracy: 9.4362e-04 - val_tp: 57.0000 - val_fp: 462.0000 - val_tn: 45043.0000 - val_fn: 7.0000 - val_precision: 0.1098 - val_recall: 0.8906 - val_auc: 0.9862\n",
            "Epoch 8/10\n",
            "182276/182276 [==============================] - 6s 34us/sample - loss: 1.0412e-06 - accuracy: 8.3939e-04 - tp: 312.0000 - fp: 3724.0000 - tn: 178227.0000 - fn: 13.0000 - precision: 0.0773 - recall: 0.9600 - auc: 0.9939 - val_loss: 0.0508 - val_accuracy: 8.5584e-04 - val_tp: 58.0000 - val_fp: 577.0000 - val_tn: 44928.0000 - val_fn: 6.0000 - val_precision: 0.0913 - val_recall: 0.9062 - val_auc: 0.9862\n",
            "Epoch 9/10\n",
            "182276/182276 [==============================] - 6s 33us/sample - loss: 9.6291e-07 - accuracy: 0.0011 - tp: 308.0000 - fp: 3469.0000 - tn: 178482.0000 - fn: 17.0000 - precision: 0.0815 - recall: 0.9477 - auc: 0.9951 - val_loss: 0.1042 - val_accuracy: 9.8751e-04 - val_tp: 59.0000 - val_fp: 1613.0000 - val_tn: 43892.0000 - val_fn: 5.0000 - val_precision: 0.0353 - val_recall: 0.9219 - val_auc: 0.9868\n",
            "Epoch 10/10\n",
            "182276/182276 [==============================] - 6s 32us/sample - loss: 8.5826e-07 - accuracy: 0.0013 - tp: 315.0000 - fp: 3645.0000 - tn: 178306.0000 - fn: 10.0000 - precision: 0.0795 - recall: 0.9692 - auc: 0.9965 - val_loss: 0.0623 - val_accuracy: 0.0013 - val_tp: 59.0000 - val_fp: 905.0000 - val_tn: 44600.0000 - val_fn: 5.0000 - val_precision: 0.0612 - val_recall: 0.9219 - val_auc: 0.9863\n"
          ],
          "name": "stdout"
        }
      ]
    },
    {
      "cell_type": "code",
      "metadata": {
        "id": "tpKEf-XzYqHu",
        "colab_type": "code",
        "colab": {
          "base_uri": "https://localhost:8080/",
          "height": 212
        },
        "outputId": "bcab572a-1cc7-4cab-e03b-5b489f950635"
      },
      "source": [
        "weighted_results = weighted_model.evaluate(test_features, test_labels, verbose=2)\n",
        "for name, value in zip(weighted_model.metrics_names, weighted_results):\n",
        "  print(name, ': ', value)"
      ],
      "execution_count": 28,
      "outputs": [
        {
          "output_type": "stream",
          "text": [
            "56962/56962 - 3s - loss: 0.0657 - accuracy: 0.0014 - tp: 91.0000 - fp: 1177.0000 - tn: 55682.0000 - fn: 12.0000 - precision: 0.0718 - recall: 0.8835 - auc: 0.9670\n",
            "loss :  0.06569875825972732\n",
            "accuracy :  0.0014220006\n",
            "tp :  91.0\n",
            "fp :  1177.0\n",
            "tn :  55682.0\n",
            "fn :  12.0\n",
            "precision :  0.07176656\n",
            "recall :  0.88349515\n",
            "auc :  0.9670025\n"
          ],
          "name": "stdout"
        }
      ]
    },
    {
      "cell_type": "markdown",
      "metadata": {
        "id": "pNaX640qY36H",
        "colab_type": "text"
      },
      "source": [
        "Here you can see that with class weights the **accuracy and precision are lower because there are more false positives, but conversely the recall and AUC are higher because the model also found more true positives.** Despite having lower overall accuracy, this approach may be better when considering the consequences of failing to identify fraudulent transactions **driving the prioritization of recall.** Depending on how bad false negatives are, you might use even more exaggerated weights to further improve recall while dropping precision."
      ]
    },
    {
      "cell_type": "code",
      "metadata": {
        "id": "IhWKnhtaZKhi",
        "colab_type": "code",
        "colab": {}
      },
      "source": [
        ""
      ],
      "execution_count": 0,
      "outputs": []
    },
    {
      "cell_type": "markdown",
      "metadata": {
        "id": "h4qSpIJCZPnx",
        "colab_type": "text"
      },
      "source": [
        "## Oversampling the minority class\n",
        "\n",
        "A related approach would be to resample the dataset by oversampling the minority class, which is the process of creating more positive samples using something like sklearn's imbalanced-learn library. This library provides methods to create new positive samples by **simply duplicating random existing samples, or by interpolating between them to generate synthetic samples using variations of SMOTE.**TensorFlow also provides a way to do Random Oversampling."
      ]
    },
    {
      "cell_type": "code",
      "metadata": {
        "id": "L_2Dzj11ZR2v",
        "colab_type": "code",
        "colab": {
          "base_uri": "https://localhost:8080/",
          "height": 54
        },
        "outputId": "60ead55f-ec36-4c28-b80a-994fc6c23ab7"
      },
      "source": [
        "# with default args this will oversample the minority class to have an equal\n",
        "# number of observations\n",
        "smote = SMOTE()\n",
        "res_features, res_labels = smote.fit_sample(train_features, train_labels)\n",
        "\n",
        "res_neg, res_pos = np.bincount(res_labels)\n",
        "res_total = res_neg + res_pos\n",
        "print('{} positive samples out of {} training samples ({:.2f}% of total)'.format(\n",
        "    res_pos, res_total, 100 * res_pos / res_total))"
      ],
      "execution_count": 29,
      "outputs": [
        {
          "output_type": "stream",
          "text": [
            "181951 positive samples out of 363902 training samples (50.00% of total)\n"
          ],
          "name": "stdout"
        }
      ]
    },
    {
      "cell_type": "code",
      "metadata": {
        "id": "ahlJ1q6ecP4I",
        "colab_type": "code",
        "colab": {}
      },
      "source": [
        ""
      ],
      "execution_count": 0,
      "outputs": []
    },
    {
      "cell_type": "markdown",
      "metadata": {
        "id": "jyrOUAFWcXa1",
        "colab_type": "text"
      },
      "source": [
        "## Train and evaluate a model on the resampled data\n",
        "\n",
        "Now try training the model with the resampled data set instead of using class weights to see how these methods compare."
      ]
    },
    {
      "cell_type": "code",
      "metadata": {
        "id": "zXrcMmQAcZjX",
        "colab_type": "code",
        "colab": {
          "base_uri": "https://localhost:8080/",
          "height": 404
        },
        "outputId": "f59847f8-ed39-485c-e1c2-e0cc3cb54961"
      },
      "source": [
        "resampled_model = make_model()\n",
        "\n",
        "resampled_history = resampled_model.fit(\n",
        "    res_features,\n",
        "    res_labels,\n",
        "    batch_size=BATCH_SIZE,\n",
        "    epochs=EPOCHS,\n",
        "    validation_data=(val_features, val_labels))"
      ],
      "execution_count": 30,
      "outputs": [
        {
          "output_type": "stream",
          "text": [
            "Train on 363902 samples, validate on 45569 samples\n",
            "Epoch 1/10\n",
            "363902/363902 [==============================] - 12s 33us/sample - loss: 0.0597 - accuracy: 0.2495 - tp: 177814.0000 - fp: 4020.0000 - tn: 177931.0000 - fn: 4137.0000 - precision: 0.9779 - recall: 0.9773 - auc: 0.9978 - val_loss: 0.0102 - val_accuracy: 0.4962 - val_tp: 56.0000 - val_fp: 110.0000 - val_tn: 45395.0000 - val_fn: 8.0000 - val_precision: 0.3373 - val_recall: 0.8750 - val_auc: 0.9513\n",
            "Epoch 2/10\n",
            "363902/363902 [==============================] - 11s 31us/sample - loss: 0.0063 - accuracy: 0.5014 - tp: 181906.0000 - fp: 425.0000 - tn: 181526.0000 - fn: 45.0000 - precision: 0.9977 - recall: 0.9998 - auc: 0.9998 - val_loss: 0.0067 - val_accuracy: 0.8231 - val_tp: 55.0000 - val_fp: 54.0000 - val_tn: 45451.0000 - val_fn: 9.0000 - val_precision: 0.5046 - val_recall: 0.8594 - val_auc: 0.9370\n",
            "Epoch 3/10\n",
            "363902/363902 [==============================] - 11s 31us/sample - loss: 0.0032 - accuracy: 0.5754 - tp: 181925.0000 - fp: 218.0000 - tn: 181733.0000 - fn: 26.0000 - precision: 0.9988 - recall: 0.9999 - auc: 0.9999 - val_loss: 0.0064 - val_accuracy: 0.9169 - val_tp: 54.0000 - val_fp: 36.0000 - val_tn: 45469.0000 - val_fn: 10.0000 - val_precision: 0.6000 - val_recall: 0.8438 - val_auc: 0.9371\n",
            "Epoch 4/10\n",
            "363902/363902 [==============================] - 11s 31us/sample - loss: 0.0023 - accuracy: 0.6192 - tp: 181939.0000 - fp: 144.0000 - tn: 181807.0000 - fn: 12.0000 - precision: 0.9992 - recall: 0.9999 - auc: 0.9999 - val_loss: 0.0061 - val_accuracy: 0.9470 - val_tp: 54.0000 - val_fp: 28.0000 - val_tn: 45477.0000 - val_fn: 10.0000 - val_precision: 0.6585 - val_recall: 0.8438 - val_auc: 0.9295\n",
            "Epoch 5/10\n",
            "363902/363902 [==============================] - 11s 31us/sample - loss: 0.0017 - accuracy: 0.6327 - tp: 181936.0000 - fp: 113.0000 - tn: 181838.0000 - fn: 15.0000 - precision: 0.9994 - recall: 0.9999 - auc: 0.9999 - val_loss: 0.0068 - val_accuracy: 0.9554 - val_tp: 54.0000 - val_fp: 31.0000 - val_tn: 45474.0000 - val_fn: 10.0000 - val_precision: 0.6353 - val_recall: 0.8438 - val_auc: 0.9372\n",
            "Epoch 6/10\n",
            "363902/363902 [==============================] - 11s 31us/sample - loss: 0.0020 - accuracy: 0.6620 - tp: 181931.0000 - fp: 127.0000 - tn: 181824.0000 - fn: 20.0000 - precision: 0.9993 - recall: 0.9999 - auc: 0.9999 - val_loss: 0.0070 - val_accuracy: 0.9679 - val_tp: 54.0000 - val_fp: 27.0000 - val_tn: 45478.0000 - val_fn: 10.0000 - val_precision: 0.6667 - val_recall: 0.8438 - val_auc: 0.9373\n",
            "Epoch 7/10\n",
            "363902/363902 [==============================] - 11s 31us/sample - loss: 0.0011 - accuracy: 0.6748 - tp: 181944.0000 - fp: 75.0000 - tn: 181876.0000 - fn: 7.0000 - precision: 0.9996 - recall: 1.0000 - auc: 0.9999 - val_loss: 0.0075 - val_accuracy: 0.9716 - val_tp: 54.0000 - val_fp: 24.0000 - val_tn: 45481.0000 - val_fn: 10.0000 - val_precision: 0.6923 - val_recall: 0.8438 - val_auc: 0.9294\n",
            "Epoch 8/10\n",
            "363902/363902 [==============================] - 11s 31us/sample - loss: 0.0012 - accuracy: 0.6799 - tp: 181940.0000 - fp: 78.0000 - tn: 181873.0000 - fn: 11.0000 - precision: 0.9996 - recall: 0.9999 - auc: 0.9999 - val_loss: 0.0081 - val_accuracy: 0.9657 - val_tp: 54.0000 - val_fp: 45.0000 - val_tn: 45460.0000 - val_fn: 10.0000 - val_precision: 0.5455 - val_recall: 0.8438 - val_auc: 0.9215\n",
            "Epoch 9/10\n",
            "363902/363902 [==============================] - 11s 31us/sample - loss: 0.0014 - accuracy: 0.6899 - tp: 181931.0000 - fp: 97.0000 - tn: 181854.0000 - fn: 20.0000 - precision: 0.9995 - recall: 0.9999 - auc: 0.9999 - val_loss: 0.0068 - val_accuracy: 0.9768 - val_tp: 54.0000 - val_fp: 21.0000 - val_tn: 45484.0000 - val_fn: 10.0000 - val_precision: 0.7200 - val_recall: 0.8438 - val_auc: 0.9295\n",
            "Epoch 10/10\n",
            "363902/363902 [==============================] - 11s 31us/sample - loss: 8.9701e-04 - accuracy: 0.6949 - tp: 181944.0000 - fp: 53.0000 - tn: 181898.0000 - fn: 7.0000 - precision: 0.9997 - recall: 1.0000 - auc: 1.0000 - val_loss: 0.0077 - val_accuracy: 0.9834 - val_tp: 54.0000 - val_fp: 15.0000 - val_tn: 45490.0000 - val_fn: 10.0000 - val_precision: 0.7826 - val_recall: 0.8438 - val_auc: 0.9217\n"
          ],
          "name": "stdout"
        }
      ]
    },
    {
      "cell_type": "code",
      "metadata": {
        "id": "XcPyEhRUccsc",
        "colab_type": "code",
        "colab": {
          "base_uri": "https://localhost:8080/",
          "height": 212
        },
        "outputId": "e2fdee14-307c-439e-ea39-258d60ed9b14"
      },
      "source": [
        "resampled_results = resampled_model.evaluate(test_features, test_labels, verbose=2)\n",
        "for name, value in zip(resampled_model.metrics_names, resampled_results):\n",
        "  print(name, ': ', value)"
      ],
      "execution_count": 31,
      "outputs": [
        {
          "output_type": "stream",
          "text": [
            "56962/56962 - 3s - loss: 0.0155 - accuracy: 0.9837 - tp: 83.0000 - fp: 28.0000 - tn: 56831.0000 - fn: 20.0000 - precision: 0.7477 - recall: 0.8058 - auc: 0.9124\n",
            "loss :  0.015548273440443744\n",
            "accuracy :  0.98367333\n",
            "tp :  83.0\n",
            "fp :  28.0\n",
            "tn :  56831.0\n",
            "fn :  20.0\n",
            "precision :  0.7477477\n",
            "recall :  0.80582523\n",
            "auc :  0.9124037\n"
          ],
          "name": "stdout"
        }
      ]
    },
    {
      "cell_type": "markdown",
      "metadata": {
        "id": "R8Fv703Ocx9M",
        "colab_type": "text"
      },
      "source": [
        "This approach can be worth trying, but may not provide better results than using class weights because the synthetic examples may not accurately represent the underlying data.\n",
        "\n",
        "## conclusion\n",
        "Imbalanced data classification is an inherantly difficult task since there are so few samples to learn from. You should always start with the data first and do your best to collect as many samples as possible and give substantial thought to what features may be relevant so the model can get the most out of your minority class. At some point your model may struggle to improve and yield the results you want, **so it is important to keep in mind the context of the problem to evaluate how bad your false positives or negatives really are.**"
      ]
    }
  ]
}